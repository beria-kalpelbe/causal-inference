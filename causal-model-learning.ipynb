{
  "cells": [
    {
      "cell_type": "code",
      "execution_count": null,
      "metadata": {
        "id": "lyJ8xxfMLagz"
      },
      "outputs": [],
      "source": [
        "# @title Settings\n",
        "import matplotlib.pyplot as plt\n",
        "import seaborn as sns\n",
        "import pandas as pd\n",
        "import numpy as np\n",
        "from sklearn.metrics import cohen_kappa_score\n",
        "from scipy.stats import chi2_contingency\n",
        "import seaborn as sns"
      ]
    },
    {
      "cell_type": "markdown",
      "metadata": {
        "id": "hgBOPT54rSyn"
      },
      "source": [
        "# Part 0: Warm-up and Motivations"
      ]
    },
    {
      "cell_type": "markdown",
      "metadata": {
        "id": "pcK6XvjUslVA"
      },
      "source": [
        "### Introduction to Berkson's Paradox\n",
        "\n",
        "Berkson's Paradox happens when the way we choose our study sample causes a false association between two variables. This is common in hospital studies where patients are selected for having certain conditions.\n",
        "\n",
        "Let's demonstrate Berkon's Paradox in the following cells"
      ]
    },
    {
      "cell_type": "code",
      "execution_count": null,
      "metadata": {
        "id": "i2yuzzi5LmyW"
      },
      "outputs": [],
      "source": [
        "# @title Step 1. Basic data simulation\n",
        "np.random.seed(0)\n",
        "population_size = 10000\n",
        "general_population = pd.DataFrame({\n",
        "    'diabetes': np.random.choice([0, 1], size=population_size, p=[0.8, 0.2]),\n",
        "    'cholecystitis': np.random.choice([0, 1], size=population_size, p=[0.85, 0.15])\n",
        "})"
      ]
    },
    {
      "cell_type": "code",
      "execution_count": null,
      "metadata": {
        "id": "FaX4faRYLzdZ"
      },
      "outputs": [],
      "source": [
        "# @title Step 2. Hospitalized subset\n",
        "\n",
        "hospitalized = general_population[(general_population['diabetes'] == 1) | (general_population['cholecystitis'] == 1)]"
      ]
    },
    {
      "cell_type": "code",
      "execution_count": null,
      "metadata": {
        "colab": {
          "base_uri": "https://localhost:8080/",
          "height": 508
        },
        "id": "v9CBddfCGkS9",
        "outputId": "aa7899b8-cab0-408c-82d0-b2c3b596f404"
      },
      "outputs": [
        {
          "data": {
            "image/png": "[encoded data removed]",
            "text/plain": [
              "<Figure size 640x480 with 1 Axes>"
            ]
          },
          "metadata": {},
          "output_type": "display_data"
        }
      ],
      "source": [
        "# @title Step 3.a. Graphic illustration\n",
        "c1 = general_population['diabetes'] == 1\n",
        "c2 = general_population['cholecystitis'] == 1\n",
        "freq1 = len(general_population[c1])*100/len(general_population)\n",
        "freq2 = len(general_population[c2])*100/len(general_population)\n",
        "d1 = (freq1, freq2)\n",
        "\n",
        "c1 = hospitalized['diabetes'] == 1\n",
        "c2 = hospitalized['cholecystitis'] == 1\n",
        "freq1 = len(hospitalized[c1])*100/len(hospitalized)\n",
        "freq2 = len(hospitalized[c2])*100/len(hospitalized)\n",
        "d2 = (freq1, freq2)\n",
        "\n",
        "\n",
        "\n",
        "labels = (\"Diabetes\", \"cholecystitis\")\n",
        "data = {\n",
        "    'general_population': d1,\n",
        "    'hospitalized': d2,\n",
        "}\n",
        "x = np.arange(len(labels))\n",
        "width = 0.3\n",
        "multiplier = 0\n",
        "\n",
        "fig, ax = plt.subplots(layout='constrained')\n",
        "\n",
        "for attribute, measurement in data.items():\n",
        "    offset = width * multiplier\n",
        "    rects = ax.bar(x + offset, measurement, width, label=attribute)\n",
        "    ax.bar_label(rects, padding=3)\n",
        "    multiplier += 1\n",
        "ax.set_ylabel('Percentage')\n",
        "ax.set_xlabel('Disease')\n",
        "#ax.set_title('Repartition of general and hospitalized population by two diseases')\n",
        "ax.set_xticks(x + 0.5*width, labels)\n",
        "ax.legend(loc='upper right', ncols=1)\n",
        "ax.set_ylim(0, 75)\n",
        "plt.savefig('berkson_plot.pdf', format='pdf')\n",
        "plt.show()"
      ]
    },
    {
      "cell_type": "markdown",
      "metadata": {
        "id": "BVuyH3fFQBLq"
      },
      "source": [
        "From this figure we can see that in the general population, a few percentage have each of two diseases. these proportions differ by less than 5%.\n",
        "\n",
        "Furthermore, of the total hospitalized population, almost 62% suffer from diabetes and 47% from cholecystitis, a difference of 15%.\n",
        "\n",
        "From this analyse, there seems to be a link between the two diseases studied for the hospitalized population but for general population, the link seems to be weak. Let's quantify these relationships."
      ]
    },
    {
      "cell_type": "code",
      "execution_count": null,
      "metadata": {
        "colab": {
          "base_uri": "https://localhost:8080/"
        },
        "id": "wlw-iHI11ska",
        "outputId": "cdc73770-d2f0-4984-dd4f-5b5c6c0c6aab"
      },
      "outputs": [
        {
          "name": "stdout",
          "output_type": "stream",
          "text": [
            "Correlation in General Population: -0.005301468211527651\n",
            "Correlation in Hospitalized Patients: -0.8298138752443566\n"
          ]
        }
      ],
      "source": [
        "# @title Step 3.b. Analyzing the relationship in both groups\n",
        "correlation_population = general_population.corr().loc['diabetes', 'cholecystitis']\n",
        "correlation_hospitalized = hospitalized.corr().loc['diabetes', 'cholecystitis']\n",
        "\n",
        "print(f'Correlation in General Population: {correlation_population}')\n",
        "print(f'Correlation in Hospitalized Patients: {correlation_hospitalized}')"
      ]
    },
    {
      "cell_type": "code",
      "execution_count": null,
      "metadata": {
        "colab": {
          "base_uri": "https://localhost:8080/"
        },
        "id": "nKNDz8f1r12l",
        "outputId": "baf83e9f-86be-4ffe-d68e-73326118b2b7"
      },
      "outputs": [
        {
          "name": "stdout",
          "output_type": "stream",
          "text": [
            "*****************  GENERAL POPULATION  ***********************\n",
            "Chi-statistic: 0.24511203926561934\n",
            "degree of freedom: 1\n",
            "p-value: 0.620538067110803\n",
            "Cramer's V: 0.004950879106437758\n",
            "\n",
            "\n",
            "***************  HOSPITALIZED POPULATION  *****************\n",
            "Chi-statistic: 2196.6307117519104\n",
            "degree of freedom: 1\n",
            "p-value: 0.0\n",
            "Cramer's V: 0.8291690717405675\n"
          ]
        }
      ],
      "source": [
        "# @title Step 3.c. Inference on the relationship between these variables\n",
        "datas = [general_population, hospitalized]\n",
        "for i in range(len(datas)):\n",
        "  if i==0:\n",
        "    print(\"*****************  GENERAL POPULATION  ***********************\")\n",
        "  else:\n",
        "    print(\"\\n\\n***************  HOSPITALIZED POPULATION  *****************\")\n",
        "  contingency_table = pd.crosstab(datas[i]['diabetes'], datas[i]['cholecystitis'])\n",
        "\n",
        "  chi2, p, dof, expected = chi2_contingency(contingency_table)\n",
        "  print(\"Chi-statistic: \"+str(chi2))\n",
        "  print(\"degree of freedom: \"+str(dof))\n",
        "  print(\"p-value: \"+str(p))\n",
        "  n = contingency_table.sum().sum()\n",
        "  v_cramer = (chi2 / n) ** 0.5\n",
        "  print(f\"Cramer's V: {v_cramer}\")"
      ]
    },
    {
      "cell_type": "markdown",
      "metadata": {
        "id": "gwI---jJy5Jm"
      },
      "source": [
        "According to Chi-square test, there is a significant link between the two disease only for the hospitalized population"
      ]
    },
    {
      "cell_type": "markdown",
      "metadata": {
        "id": "qGW3U96zRZzH"
      },
      "source": [
        "### Understanding of Berkson's Paradox\n",
        "\n",
        "* In the general population, the prevalence of both diabetes(20%) and cholecystitis(15%) might be lower and less strongly correlated. People with these conditions are spread across various settings, including those who might not have been diagnosed or are managing these conditions without hospitalization. Here, the association between diabetes and cholecystitis might be less apparent due to the diverse and unfiltered nature of the population.\n",
        "\n",
        "* In contrast, studying the hospitalized population introduces a selection bias. Hospitalization often occurs due to more severe cases or complications of diseases. Therefore, individuals admitted to hospitals are more likely to have advanced or severe forms of diabetes or cholecystitis. This could potentially create a spurious association between these two diseases in hospital data that is not representative of the general population."
      ]
    },
    {
      "cell_type": "markdown",
      "metadata": {
        "id": "mlWUxVdhTNjB"
      },
      "source": [
        "* From this exercise a learned sampling bias impact. In fact, Berkson's Paradox highlights the influence of sampling bias on observed associations between variables. When studying hospitalized populations, the selection criteria (hospital admission) can introduce a bias towards individuals with more severe or advanced forms of diseases.\n",
        "* This paradox is important in medical research beacause, avoiding biases related to Berkson's Paradox in medical research involves careful study design, thoughtful consideration of sampling strategies, meticulous data analysis, and transparent reporting. Employing these strategies enhances the reliability of findings and supports more accurate conclusions in medical studies.\n",
        "There is some technics to avoid  such issues:\n",
        " - Sampling Strategies: Ensure the inclusion of diverse samples representative of the entire population, not just hospitalized individuals. Random sampling or sampling from multiple settings (community-based, outpatient clinics, hospitals) helps reduce selection bias.\n",
        "\n",
        " - Adjustment for Confounders: Account for potential confounding variables that might influence the observed relationships between diseases. This helps in controlling biases and obtaining more accurate estimates.\n",
        "\n",
        " - Longitudinal Studies: Conduct longitudinal studies that track individuals' health statuses over time, providing a broader perspective on disease relationships and reducing biases related to specific settings or times of observation.\n",
        "\n",
        " - Meta-analysis and Systematic Reviews: Combine and analyze findings from multiple studies to obtain more comprehensive insights. This approach helps identify common patterns while minimizing biases associated with single studies.\n",
        "\n",
        " - Causal Inference Techniques: Utilize causal inference methods that consider causal relationships between variables rather than just associations. Techniques like causal modeling and randomized controlled trials (RCTs) can provide more robust evidence.\n",
        "\n",
        " - Transparent Reporting: Transparently report the study design, participant selection criteria, and limitations. Clear documentation helps readers assess the validity and generalizability of study findings.\n",
        "\n",
        " - Collaboration and Multidisciplinary Approaches: Collaborate across disciplines to ensure a comprehensive understanding of the studied phenomena. Combining medical expertise with statistical and epidemiological knowledge helps in designing better-controlled studies.\n",
        "\n",
        "* These diseases can be caused by direct and indirect factors. Diabetes may have direct causal relationships with various metabolic factors, genetic predispositions, lifestyle choices, etc. Also, Cholecystitis may be caused by gallstone formation, dietary habits, and other factors. So,  just because diabetes and cholecystitis co-occur in hospitalized patients doesn't imply one causes the other, it might be due to shared risk factors or chance. Then, Causal thinking helps differentiate between correlations observed in data and actual causal relationships."
      ]
    },
    {
      "cell_type": "markdown",
      "metadata": {
        "id": "0J8VBmrCkBGO"
      },
      "source": [
        "# Part 1: Modelling and 'applying' the Causal Inference Engine"
      ]
    },
    {
      "cell_type": "markdown",
      "metadata": {
        "id": "XD9JiV-tlBUJ"
      },
      "source": [
        "In this part, we'll investigate the admissions process for the AIMS AI for Science 2023/2024 cohort. Our goal is to understand if the selection process is fair and represents a wide range of students from different African countries. We've noticed that there's a high number of students from only a few countries and a lack of representation from other major African countries. Let's start by modelling the key variables that might influence selection to the programme."
      ]
    },
    {
      "cell_type": "markdown",
      "metadata": {
        "id": "Jza0vcmSlEK9"
      },
      "source": [
        "## Step 1: Defining the Problem\n",
        "**Objective**: To explore whether the admissions process favours students from certain countries or backgrounds.\n",
        "\n",
        "**Hypothesis**: The selection to the AIMS AI for Science programme is influenced by factors like location, gender, and educational background."
      ]
    },
    {
      "cell_type": "markdown",
      "metadata": {
        "id": "BKYMBY-KlEN3"
      },
      "source": [
        "## Step 2: Identifying Key Variables"
      ]
    },
    {
      "cell_type": "markdown",
      "metadata": {
        "id": "r_UrbcAXy5Q3"
      },
      "source": [
        "We have considered 7 variables in our analyze: `location`, `gender`, `mathematics_ability`, `coding_ability`, `prior_education`, `english_ability` and `recommandation_letter`. And also the explained variable `selection`"
      ]
    },
    {
      "cell_type": "markdown",
      "metadata": {
        "id": "EN5j9Po7lEQm"
      },
      "source": [
        "\n",
        "## Step 3: Building the Causal Model\n",
        "\n",
        "First, let's import the necessary libraries and set up a basic structure for our analysis."
      ]
    },
    {
      "cell_type": "code",
      "execution_count": null,
      "metadata": {
        "id": "Ot26E_jUlVBS"
      },
      "outputs": [],
      "source": [
        "# Importing necessary libraries\n",
        "import pandas as pd\n",
        "import numpy as np\n",
        "import networkx as n\n",
        "import matplotlib.pyplot as plt\n",
        "import seaborn as sns\n",
        "import networkx as nx"
      ]
    },
    {
      "cell_type": "markdown",
      "metadata": {},
      "source": [
        "Now, let's build a causal model using the variables we've identified. We use NetworkX to create a graphical representation of the model."
      ]
    },
    {
      "cell_type": "code",
      "execution_count": null,
      "metadata": {
        "colab": {
          "base_uri": "https://localhost:8080/",
          "height": 653
        },
        "id": "5UUrCFSqlXZL",
        "outputId": "5e40bace-e551-4eb5-bf70-7f8f226c9985"
      },
      "outputs": [
        {
          "data": {
            "image/png": "[encoded data removed]",
            "text/plain": [
              "<Figure size 1000x800 with 1 Axes>"
            ]
          },
          "metadata": {},
          "output_type": "display_data"
        }
      ],
      "source": [
        "# Setting up the plotting\n",
        "%matplotlib inline\n",
        "sns.set_style('whitegrid')\n",
        "\n",
        "# Placeholder for data loading (to be completed by students)\n",
        "locations_modalities = ['Cameroon', 'Madagascar', 'Chad', 'Benin', ]\n",
        "\n",
        "# Placeholder for causal graph creation (to be completed by students)\n",
        "causal_graph = nx.DiGraph()\n",
        "# Add nodes and edges to represent the causal relationships\n",
        "causal_graph.add_edges_from([\n",
        "    ('gender', 'selection'),\n",
        "    ('mathematics_ability', 'selection'),\n",
        "    ('coding_ability','selection'),\n",
        "    ('english_ability','selection'),\n",
        "    ('recommandation_letter','selection'),\n",
        "    ('prior_education', 'mathematics_ability'),\n",
        "    ('prior_education', 'coding_ability'),\n",
        "    ('location', 'english_ability'),\n",
        "    #('mathematics_ability', 'coding_ability'),\n",
        "])\n",
        "\n",
        "node_positions = {\n",
        "    'location': (0, 1.2),\n",
        "    'gender': (-3.5, -1.3),\n",
        "    'mathematics_ability': (0, -1.3),\n",
        "    'prior_education': (4, -1.3),\n",
        "    'coding_ability': (4, 0),\n",
        "    'english_ability': (4, 1.2),\n",
        "    'recommandation_letter': (-3.3, 1),\n",
        "    'selection': (0, 0)\n",
        "\n",
        "}\n",
        "plt.figure(figsize=(10, 8))\n",
        "plt.xlim(-4.8,5.5)\n",
        "plt.ylim(-1.9,1.8)\n",
        "nx.draw(causal_graph, pos=node_positions, with_labels=True, node_size=18000, node_color='#BFB16D', edge_color='black', node_shape='o', arrowsize=25)\n",
        "plt.savefig('graph.pdf', format='pdf', bbox_inches='tight')\n",
        "plt.show()\n"
      ]
    },
    {
      "cell_type": "markdown",
      "metadata": {
        "id": "e_rznrqaZoNM"
      },
      "source": [
        "In this DAG we assume that the selection is directly caused by the factors as:\n",
        "* gender: Evaluators may have unconscious biases favoring one gender over the other when assessing performance, thus affecting the results. Also, differences in access to education, teachers' or parents' expectations of students based on their gender, and stereotypes about cognitive abilities can influence academic performance, and therefore influence their selection.\n",
        "* mathematics and coding abilities: This is because there is a math and coding test in the student recruitment process. So the candidates need to be smart in maths and/or in mathematics for be selected.\n",
        "* english ability: this ability allow candidates to write well the mathematics questions of the test and also write a nice motivational letter.\n",
        "* recommandation letter: it can add credibility to a candidate's application by providing external testimonials on his or her skills, personal and professional qualities. It can support the application by providing details of past performance, achievements or specific qualities that may be relevant to selection. In addition, in a competitive candidate pools, a strong letter of recommendation can help set a candidate apart from the rest by highlighting his or her assets, unique qualities or exceptional experience.\n",
        "\n",
        "Some of these variables can also be caused by others factors:\n",
        "- english ability: it's common in all african countries to have a very diverse local languages. Some of them have english as official languages and others not. So, the fact of coming from a country with english as official language or work language can improve the english ability of this candidate.\n",
        "- mathematics ability: The complexity of mathematical concepts can vary according to the field of study. For example, the mathematics used in theoretical physics may differ from that used in economics. Students with a background in mathematics are obviously better suited than those with a background in engineering or computer science. Then, the prior education can cause mathematics ability.\n",
        "- coding ability: Mathematics often involves solving complex problems, which encourages the development of logical thinking and an analytical approach. These skills are also essential in programming, to break down problems into logical steps. That's why mathematics ability can cause coding ability. But because of backdoor criterion, the causality link have been removed in the graph"
      ]
    },
    {
      "cell_type": "markdown",
      "metadata": {
        "id": "03kFWCW0lRjJ"
      },
      "source": [
        "## Implementing the Model in Pyro and Generating Data\n",
        "\n",
        "After building the causal graph, the next step is to bring the model to life using Pyro. We'll define the relationships and dependencies between variables in a probabilistic framework and then generate synthetic data based on this model.\n",
        "\n",
        "First, we need to import Pyro and set up the basic environment for probabilistic programming."
      ]
    },
    {
      "cell_type": "code",
      "execution_count": null,
      "metadata": {
        "colab": {
          "base_uri": "https://localhost:8080/"
        },
        "id": "y6fTLOKMp5ET",
        "outputId": "46762ac9-88ac-4859-d2d8-e17b69960ba3"
      },
      "outputs": [
        {
          "name": "stdout",
          "output_type": "stream",
          "text": [
            "Requirement already satisfied: pyro-ppl in /usr/local/lib/python3.10/dist-packages (1.8.6)\n",
            "Requirement already satisfied: numpy>=1.7 in /usr/local/lib/python3.10/dist-packages (from pyro-ppl) (1.23.5)\n",
            "Requirement already satisfied: opt-einsum>=2.3.2 in /usr/local/lib/python3.10/dist-packages (from pyro-ppl) (3.3.0)\n",
            "Requirement already satisfied: pyro-api>=0.1.1 in /usr/local/lib/python3.10/dist-packages (from pyro-ppl) (0.1.2)\n",
            "Requirement already satisfied: torch>=1.11.0 in /usr/local/lib/python3.10/dist-packages (from pyro-ppl) (2.1.0+cu121)\n",
            "Requirement already satisfied: tqdm>=4.36 in /usr/local/lib/python3.10/dist-packages (from pyro-ppl) (4.66.1)\n",
            "Requirement already satisfied: filelock in /usr/local/lib/python3.10/dist-packages (from torch>=1.11.0->pyro-ppl) (3.13.1)\n",
            "Requirement already satisfied: typing-extensions in /usr/local/lib/python3.10/dist-packages (from torch>=1.11.0->pyro-ppl) (4.5.0)\n",
            "Requirement already satisfied: sympy in /usr/local/lib/python3.10/dist-packages (from torch>=1.11.0->pyro-ppl) (1.12)\n",
            "Requirement already satisfied: networkx in /usr/local/lib/python3.10/dist-packages (from torch>=1.11.0->pyro-ppl) (3.2.1)\n",
            "Requirement already satisfied: jinja2 in /usr/local/lib/python3.10/dist-packages (from torch>=1.11.0->pyro-ppl) (3.1.2)\n",
            "Requirement already satisfied: fsspec in /usr/local/lib/python3.10/dist-packages (from torch>=1.11.0->pyro-ppl) (2023.6.0)\n",
            "Requirement already satisfied: triton==2.1.0 in /usr/local/lib/python3.10/dist-packages (from torch>=1.11.0->pyro-ppl) (2.1.0)\n",
            "Requirement already satisfied: MarkupSafe>=2.0 in /usr/local/lib/python3.10/dist-packages (from jinja2->torch>=1.11.0->pyro-ppl) (2.1.3)\n",
            "Requirement already satisfied: mpmath>=0.19 in /usr/local/lib/python3.10/dist-packages (from sympy->torch>=1.11.0->pyro-ppl) (1.3.0)\n",
            "Requirement already satisfied: causal-learn in /usr/local/lib/python3.10/dist-packages (0.1.3.7)\n",
            "Requirement already satisfied: numpy in /usr/local/lib/python3.10/dist-packages (from causal-learn) (1.23.5)\n",
            "Requirement already satisfied: scipy in /usr/local/lib/python3.10/dist-packages (from causal-learn) (1.11.4)\n",
            "Requirement already satisfied: scikit-learn in /usr/local/lib/python3.10/dist-packages (from causal-learn) (1.2.2)\n",
            "Requirement already satisfied: graphviz in /usr/local/lib/python3.10/dist-packages (from causal-learn) (0.20.1)\n",
            "Requirement already satisfied: statsmodels in /usr/local/lib/python3.10/dist-packages (from causal-learn) (0.14.1)\n",
            "Requirement already satisfied: pandas in /usr/local/lib/python3.10/dist-packages (from causal-learn) (1.5.3)\n",
            "Requirement already satisfied: matplotlib in /usr/local/lib/python3.10/dist-packages (from causal-learn) (3.7.1)\n",
            "Requirement already satisfied: networkx in /usr/local/lib/python3.10/dist-packages (from causal-learn) (3.2.1)\n",
            "Requirement already satisfied: pydot in /usr/local/lib/python3.10/dist-packages (from causal-learn) (1.4.2)\n",
            "Requirement already satisfied: tqdm in /usr/local/lib/python3.10/dist-packages (from causal-learn) (4.66.1)\n",
            "Requirement already satisfied: contourpy>=1.0.1 in /usr/local/lib/python3.10/dist-packages (from matplotlib->causal-learn) (1.2.0)\n",
            "Requirement already satisfied: cycler>=0.10 in /usr/local/lib/python3.10/dist-packages (from matplotlib->causal-learn) (0.12.1)\n",
            "Requirement already satisfied: fonttools>=4.22.0 in /usr/local/lib/python3.10/dist-packages (from matplotlib->causal-learn) (4.47.0)\n",
            "Requirement already satisfied: kiwisolver>=1.0.1 in /usr/local/lib/python3.10/dist-packages (from matplotlib->causal-learn) (1.4.5)\n",
            "Requirement already satisfied: packaging>=20.0 in /usr/local/lib/python3.10/dist-packages (from matplotlib->causal-learn) (23.2)\n",
            "Requirement already satisfied: pillow>=6.2.0 in /usr/local/lib/python3.10/dist-packages (from matplotlib->causal-learn) (9.4.0)\n",
            "Requirement already satisfied: pyparsing>=2.3.1 in /usr/local/lib/python3.10/dist-packages (from matplotlib->causal-learn) (3.1.1)\n",
            "Requirement already satisfied: python-dateutil>=2.7 in /usr/local/lib/python3.10/dist-packages (from matplotlib->causal-learn) (2.8.2)\n",
            "Requirement already satisfied: pytz>=2020.1 in /usr/local/lib/python3.10/dist-packages (from pandas->causal-learn) (2023.3.post1)\n",
            "Requirement already satisfied: joblib>=1.1.1 in /usr/local/lib/python3.10/dist-packages (from scikit-learn->causal-learn) (1.3.2)\n",
            "Requirement already satisfied: threadpoolctl>=2.0.0 in /usr/local/lib/python3.10/dist-packages (from scikit-learn->causal-learn) (3.2.0)\n",
            "Requirement already satisfied: patsy>=0.5.4 in /usr/local/lib/python3.10/dist-packages (from statsmodels->causal-learn) (0.5.4)\n",
            "Requirement already satisfied: six in /usr/local/lib/python3.10/dist-packages (from patsy>=0.5.4->statsmodels->causal-learn) (1.16.0)\n",
            "Requirement already satisfied: cdt in /usr/local/lib/python3.10/dist-packages (0.6.0)\n",
            "Requirement already satisfied: numpy in /usr/local/lib/python3.10/dist-packages (from cdt) (1.23.5)\n",
            "Requirement already satisfied: scipy in /usr/local/lib/python3.10/dist-packages (from cdt) (1.11.4)\n",
            "Requirement already satisfied: scikit-learn in /usr/local/lib/python3.10/dist-packages (from cdt) (1.2.2)\n",
            "Requirement already satisfied: joblib in /usr/local/lib/python3.10/dist-packages (from cdt) (1.3.2)\n",
            "Requirement already satisfied: pandas in /usr/local/lib/python3.10/dist-packages (from cdt) (1.5.3)\n",
            "Requirement already satisfied: statsmodels in /usr/local/lib/python3.10/dist-packages (from cdt) (0.14.1)\n",
            "Requirement already satisfied: networkx in /usr/local/lib/python3.10/dist-packages (from cdt) (3.2.1)\n",
            "Requirement already satisfied: skrebate in /usr/local/lib/python3.10/dist-packages (from cdt) (0.62)\n",
            "Requirement already satisfied: tqdm in /usr/local/lib/python3.10/dist-packages (from cdt) (4.66.1)\n",
            "Requirement already satisfied: GPUtil in /usr/local/lib/python3.10/dist-packages (from cdt) (1.4.0)\n",
            "Requirement already satisfied: requests in /usr/local/lib/python3.10/dist-packages (from cdt) (2.31.0)\n",
            "Requirement already satisfied: python-dateutil>=2.8.1 in /usr/local/lib/python3.10/dist-packages (from pandas->cdt) (2.8.2)\n",
            "Requirement already satisfied: pytz>=2020.1 in /usr/local/lib/python3.10/dist-packages (from pandas->cdt) (2023.3.post1)\n",
            "Requirement already satisfied: charset-normalizer<4,>=2 in /usr/local/lib/python3.10/dist-packages (from requests->cdt) (3.3.2)\n",
            "Requirement already satisfied: idna<4,>=2.5 in /usr/local/lib/python3.10/dist-packages (from requests->cdt) (3.6)\n",
            "Requirement already satisfied: urllib3<3,>=1.21.1 in /usr/local/lib/python3.10/dist-packages (from requests->cdt) (2.0.7)\n",
            "Requirement already satisfied: certifi>=2017.4.17 in /usr/local/lib/python3.10/dist-packages (from requests->cdt) (2023.11.17)\n",
            "Requirement already satisfied: threadpoolctl>=2.0.0 in /usr/local/lib/python3.10/dist-packages (from scikit-learn->cdt) (3.2.0)\n",
            "Requirement already satisfied: patsy>=0.5.4 in /usr/local/lib/python3.10/dist-packages (from statsmodels->cdt) (0.5.4)\n",
            "Requirement already satisfied: packaging>=21.3 in /usr/local/lib/python3.10/dist-packages (from statsmodels->cdt) (23.2)\n",
            "Requirement already satisfied: six in /usr/local/lib/python3.10/dist-packages (from patsy>=0.5.4->statsmodels->cdt) (1.16.0)\n"
          ]
        }
      ],
      "source": [
        "!pip install pyro-ppl\n",
        "!pip install causal-learn\n",
        "!pip install cdt\n",
        "\n",
        "import pyro\n",
        "import pyro.distributions as dist\n",
        "import torch\n",
        "import requests\n",
        "from causallearn.search.ScoreBased.GES import ges"
      ]
    },
    {
      "cell_type": "markdown",
      "metadata": {
        "id": "hgGhNzPeyAsT"
      },
      "source": [
        "#### Variables characteristics\n",
        "\n",
        "In this table, we define the nature of variables and also their distributions\n",
        "<table>\n",
        "    <thead>\n",
        "        <tr>\n",
        "            <th>Variable</th>\n",
        "            <th>Nature</th>\n",
        "            <th>Distribution</th>\n",
        "        </tr>\n",
        "    </thead>\n",
        "    <tbody>\n",
        "        <tr>\n",
        "            <td>selection</td>\n",
        "            <td>Binary</td>\n",
        "            <td>Bernoulli distribution</td>\n",
        "        </tr>\n",
        "        <tr>\n",
        "            <td>location</td>\n",
        "            <td>Categorical</td>\n",
        "            <td>Categorical distribution</td>\n",
        "        </tr>\n",
        "        <tr>\n",
        "            <td>prior_education</td>\n",
        "            <td>Categorical</td>\n",
        "            <td>Categorical distribution</td>\n",
        "        </tr>\n",
        "        <tr>\n",
        "            <td>gender</td>\n",
        "            <td>Bernoulli</td>\n",
        "            <td>Bernoulli distribution</td>\n",
        "        </tr>\n",
        "        <tr>\n",
        "            <td>english_ability</td>\n",
        "            <td>Numerical</td>\n",
        "            <td>Normal distribution</td>\n",
        "        </tr>\n",
        "        <tr>\n",
        "            <td>mathematics_ability</td>\n",
        "            <td>Numerical</td>\n",
        "            <td>Normal distribution</td>\n",
        "        </tr>\n",
        "        <tr>\n",
        "            <td>coding_ability</td>\n",
        "            <td>Numerical</td>\n",
        "            <td>Normal distribution</td>\n",
        "        </tr>\n",
        "        <tr>\n",
        "            <td>recommandation_letter</td>\n",
        "            <td>Bernoulli</td>\n",
        "            <td>Bernoulli distribution</td>\n",
        "        </tr>\n",
        "    </tbody>\n",
        "</table>\n",
        "\n",
        "The assumptions about variables's distributions are:\n",
        "* location: this variable follows a categorical distribution because there is 59 countries in Africa. And the fact for a candidate to be from a specific kind of country can affect his/her willingness to apply. For example, the candidates from English-speaking countries may receive application information more quickly because of the language, and will also feel free to apply. This is not the case in French-speaking countries, because of the stress and difficulties of understanding or expressing themselves in English. Also, we assume that the south african candidates and the candidates for neighboring countries of South Africa are more motivated to apply than others. So, if $p$ is the probability of a candidate from a non neighboring of South Africa and not an english-speaker. The probability of a candidate from english-speaking country is $2p$. And the probability for a candidate of neighboring of South Africa and english-speaker is $3p$ and $2p$ otherwise.\n",
        "* prior education: We assume that there is 5 possible background to apply because of the elligibility criterions: 'Computer Science', 'Physics', 'Engineering', 'Statistics', 'Mathematics'. And each of them have a same chance to apply.\n",
        "* gender: We assume that the male candidates are 1.5 more motivated to apply than female candidates.\n",
        "* english ability: We assume that this variable is gaussian with 0.02 as standard deviation\n",
        "* mathematics ability and coding ability: are all gaussians with 0.2 as standard deviation\n",
        "* recommandation letter: We assume that the chance for a candidate to have a recommandation is 0.3 due to the difficulties of having recommandation."
      ]
    },
    {
      "cell_type": "code",
      "execution_count": null,
      "metadata": {
        "colab": {
          "base_uri": "https://localhost:8080/"
        },
        "id": "DM90P_EuORj8",
        "outputId": "b1074163-99ea-49de-e1d1-ce1a51954889"
      },
      "outputs": [
        {
          "name": "stdout",
          "output_type": "stream",
          "text": [
            "Succeeded to retrieve countries data\n"
          ]
        }
      ],
      "source": [
        "# @title Get the countries data\n",
        "url_countries = \"https://restcountries.com/v3.1/all\"\n",
        "\n",
        "# Send GET request to fetch country data\n",
        "response = requests.get(url_countries)\n",
        "\n",
        "if response.status_code == 200:\n",
        "    # Parse JSON response\n",
        "    countries_data = response.json()\n",
        "    print(\"Succeeded to retrieve countries data\")\n",
        "    # Filter countries that are in Africa\n",
        "    african_countries = [country['name']['common'] for country in countries_data\n",
        "                        if 'Africa' in country['region']]\n",
        "    # Filter country that have english as official language and neighbors countries\n",
        "    neighbors = ['Namibia', 'Botswana', 'Zimbabwe', 'Madagascar', 'South Africa', 'Lesotho', 'Eswatini', 'Mozambique']\n",
        "    is_neighbor = []\n",
        "    is_english_speakers = []\n",
        "    for country in countries_data:\n",
        "      if 'Africa' in country['region']:\n",
        "        if 'eng' in country['languages'].keys():\n",
        "          is_english_speakers.append(1)\n",
        "        else:\n",
        "          is_english_speakers.append(0)\n",
        "        if country['name']['common'] in neighbors:\n",
        "          is_neighbor.append(1)\n",
        "        else:\n",
        "          is_neighbor.append(0)\n",
        "else:\n",
        "    print(\"Failed to retrieve data. Status code:\", response.status_code)"
      ]
    },
    {
      "cell_type": "code",
      "execution_count": null,
      "metadata": {
        "id": "otEVQCQ9mg7x"
      },
      "outputs": [],
      "source": [
        "# @title Data structure\n",
        "class Data:\n",
        "  def __init__(self, countries, is_english_speakers, is_neighbor):\n",
        "    self.countries = countries\n",
        "    self.is_english_speakers = is_english_speakers\n",
        "    self.is_neighbor = is_neighbor\n",
        "    self.labels_data = None\n",
        "    self.data = []\n",
        "\n",
        "  def get_data(self):\n",
        "    return self.data\n",
        "\n",
        "  def get_labels_data(self):\n",
        "    return self.labels_data\n",
        "\n",
        "  def generate_data(self, num_samples):\n",
        "    for _ in range(num_samples):\n",
        "      # Example: Define a normal distribution for mathematics_ability\n",
        "      locations_prob = np.array([1]*len(self.countries))\n",
        "      locations_prob += np.array(self.is_english_speakers) + np.array(self.is_neighbor)\n",
        "      locations_prob = locations_prob/sum(locations_prob)\n",
        "      locations_prob = torch.tensor(locations_prob.tolist())\n",
        "      location  = pyro.sample('location', dist.Categorical(locations_prob))\n",
        "      location_categories = self.countries\n",
        "\n",
        "      prior_education_categories = ['Computer Science', 'Physics', 'Engineering', 'Statistics', 'Mathematics']\n",
        "      prior_education_probs = torch.tensor([1.0/len(prior_education_categories)]*len(prior_education_categories))\n",
        "      prior_education = pyro.sample('prior_education', dist.Categorical(prior_education_probs))\n",
        "\n",
        "      gender = pyro.sample('gender', dist.Bernoulli(0.6))\n",
        "      gender_categories = ['Female', 'Male']\n",
        "\n",
        "      english_ability = pyro.sample('english_ability', dist.Normal(2*locations_prob[location], 0.02))\n",
        "\n",
        "      mathematics_ability = pyro.sample('mathematics_ability', dist.Normal(prior_education/8, 0.2))\n",
        "      coding_ability = pyro.sample('coding_ability', dist.Normal(6-prior_education.item(), 0.2))\n",
        "\n",
        "      recommandation_letter = pyro.sample('recommandation_letter', dist.Bernoulli(0.3))\n",
        "      recommandation_letter_categories = ['No', 'Yes']\n",
        "      p = torch.sigmoid(english_ability + 3*mathematics_ability + 2*coding_ability + 0.2*gender + 0.1*recommandation_letter -6)\n",
        "      selection = pyro.sample('selection',dist.Bernoulli(p))\n",
        "      selection_categories = ['Not Selected', 'Selected']\n",
        "\n",
        "      self.data.append({\n",
        "          'selection': selection.item(),\n",
        "          'mathematics_ability': mathematics_ability.item(),\n",
        "          'coding_ability': coding_ability.item(),\n",
        "          'location': location.item(),\n",
        "          'prior_education': prior_education.item(),\n",
        "          'gender': gender.item(),\n",
        "          'english_ability': english_ability.item(),\n",
        "          'recommandation_letter': recommandation_letter.item(),\n",
        "          # Include other variables here\n",
        "      })\n",
        "    self.data = pd.DataFrame(self.data)\n",
        "    self.labels_data = {\n",
        "          'location': location_categories,\n",
        "          'prior_education': prior_education_categories,\n",
        "          'gender': gender_categories,\n",
        "          'recommandation_letter': recommandation_letter_categories,\n",
        "          'selection': selection_categories,\n",
        "    }"
      ]
    },
    {
      "cell_type": "markdown",
      "metadata": {
        "id": "UfCJw1MSUo_-"
      },
      "source": [
        "## Structural Causal Model (SCM)\n",
        "\n",
        "Let's call $y$:=`selection`;  $mat$ := `mathematics_ability`; $cod$ := `coding_ability`; $loc$ := `location`; $prior$ := `prior_education`;\n",
        "$gen$ := `gender`; $eng$ := `english_ability`; $rec$ := `recommandation_letter`\n",
        "\n",
        "From then on, the Structural Causal Model (SCM) is the following:\n",
        "$$\n",
        "\\left\\{\n",
        "\\begin{array}{rl}\n",
        "\tloc = & Cat(k_{loc},p_{loc})\\\\\n",
        "\tprior = & Cat(k_{prior},p_{prior})\\\\\n",
        "\tgen = & \\mathcal{B}er(p_{gen})\\\\\n",
        "\trec = & \\mathcal{B}er(p_{rec})\\\\\n",
        "\teng = & p_{loc} + \\mathcal{N}(0, \\sigma_{eng})\\\\\n",
        "\tmat = &  prior/8 + \\mathcal{N}(0, \\sigma_{mat})\\\\\n",
        "\tcod = &  - prior+ \\mathcal{N}(6, \\sigma_{cod})\\\\\n",
        "\ty = & \\mathcal{B}er(z(eng + 3mat + 2cod + 0.2gen + 0.1rec))\n",
        "\\end{array}\n",
        "\\right.\n",
        "$$\n",
        "Where z is the sigmoïd function defined by $z(x):=\\frac{1}{1+e^{-x}}$\n",
        "\n",
        "The joint distribution can be expressed as following:\\\\[3mm]\n",
        "$$\n",
        "\tP(y, loc, rec, gen, mat, prior, cod, en) = P(y|gen, rec, mat, cod, en) \\times P(en|loc)  \\times P(cod|mat, prior) \\times P(mat| prior)\n",
        "$$\n",
        "\n",
        "### Analyzing of the model:\n",
        "\n",
        "All the backdoor paths have been closed in the graph. So, the Backdoor criterion is satisfied to estimate the causal effect of any variable on another. ✅"
      ]
    },
    {
      "cell_type": "code",
      "execution_count": null,
      "metadata": {
        "colab": {
          "base_uri": "https://localhost:8080/",
          "height": 206
        },
        "id": "-zQ7cyS5cKk5",
        "outputId": "b9bc3f07-8163-44d8-d160-fb87cf099943"
      },
      "outputs": [
        {
          "data": {
            "text/html": [
              "\n",
              "  <div id=\"df-338f12db-a5f1-43bc-9aca-155b3df1623e\" class=\"colab-df-container\">\n",
              "    <div>\n",
              "<style scoped>\n",
              "    .dataframe tbody tr th:only-of-type {\n",
              "        vertical-align: middle;\n",
              "    }\n",
              "\n",
              "    .dataframe tbody tr th {\n",
              "        vertical-align: top;\n",
              "    }\n",
              "\n",
              "    .dataframe thead th {\n",
              "        text-align: right;\n",
              "    }\n",
              "</style>\n",
              "<table border=\"1\" class=\"dataframe\">\n",
              "  <thead>\n",
              "    <tr style=\"text-align: right;\">\n",
              "      <th></th>\n",
              "      <th>selection</th>\n",
              "      <th>mathematics_ability</th>\n",
              "      <th>coding_ability</th>\n",
              "      <th>location</th>\n",
              "      <th>prior_education</th>\n",
              "      <th>gender</th>\n",
              "      <th>english_ability</th>\n",
              "      <th>recommandation_letter</th>\n",
              "    </tr>\n",
              "  </thead>\n",
              "  <tbody>\n",
              "    <tr>\n",
              "      <th>0</th>\n",
              "      <td>0.0</td>\n",
              "      <td>0.565300</td>\n",
              "      <td>1.937192</td>\n",
              "      <td>30</td>\n",
              "      <td>4</td>\n",
              "      <td>1.0</td>\n",
              "      <td>0.052761</td>\n",
              "      <td>1.0</td>\n",
              "    </tr>\n",
              "    <tr>\n",
              "      <th>1</th>\n",
              "      <td>1.0</td>\n",
              "      <td>0.010445</td>\n",
              "      <td>4.359543</td>\n",
              "      <td>46</td>\n",
              "      <td>1</td>\n",
              "      <td>1.0</td>\n",
              "      <td>0.004386</td>\n",
              "      <td>0.0</td>\n",
              "    </tr>\n",
              "    <tr>\n",
              "      <th>2</th>\n",
              "      <td>1.0</td>\n",
              "      <td>0.598053</td>\n",
              "      <td>4.121222</td>\n",
              "      <td>11</td>\n",
              "      <td>2</td>\n",
              "      <td>1.0</td>\n",
              "      <td>0.072382</td>\n",
              "      <td>0.0</td>\n",
              "    </tr>\n",
              "    <tr>\n",
              "      <th>3</th>\n",
              "      <td>0.0</td>\n",
              "      <td>0.480763</td>\n",
              "      <td>1.762791</td>\n",
              "      <td>0</td>\n",
              "      <td>4</td>\n",
              "      <td>1.0</td>\n",
              "      <td>0.060289</td>\n",
              "      <td>0.0</td>\n",
              "    </tr>\n",
              "    <tr>\n",
              "      <th>4</th>\n",
              "      <td>1.0</td>\n",
              "      <td>0.553917</td>\n",
              "      <td>2.172269</td>\n",
              "      <td>55</td>\n",
              "      <td>4</td>\n",
              "      <td>1.0</td>\n",
              "      <td>0.044615</td>\n",
              "      <td>1.0</td>\n",
              "    </tr>\n",
              "  </tbody>\n",
              "</table>\n",
              "</div>\n",
              "    <div class=\"colab-df-buttons\">\n",
              "\n",
              "  <div class=\"colab-df-container\">\n",
              "    <button class=\"colab-df-convert\" onclick=\"convertToInteractive('df-338f12db-a5f1-43bc-9aca-155b3df1623e')\"\n",
              "            title=\"Convert this dataframe to an interactive table.\"\n",
              "            style=\"display:none;\">\n",
              "\n",
              "  <svg xmlns=\"http://www.w3.org/2000/svg\" height=\"24px\" viewBox=\"0 -960 960 960\">\n",
              "    <path d=\"M120-120v-720h720v720H120Zm60-500h600v-160H180v160Zm220 220h160v-160H400v160Zm0 220h160v-160H400v160ZM180-400h160v-160H180v160Zm440 0h160v-160H620v160ZM180-180h160v-160H180v160Zm440 0h160v-160H620v160Z\"/>\n",
              "  </svg>\n",
              "    </button>\n",
              "\n",
              "  <style>\n",
              "    .colab-df-container {\n",
              "      display:flex;\n",
              "      gap: 12px;\n",
              "    }\n",
              "\n",
              "    .colab-df-convert {\n",
              "      background-color: #E8F0FE;\n",
              "      border: none;\n",
              "      border-radius: 50%;\n",
              "      cursor: pointer;\n",
              "      display: none;\n",
              "      fill: #1967D2;\n",
              "      height: 32px;\n",
              "      padding: 0 0 0 0;\n",
              "      width: 32px;\n",
              "    }\n",
              "\n",
              "    .colab-df-convert:hover {\n",
              "      background-color: #E2EBFA;\n",
              "      box-shadow: 0px 1px 2px rgba(60, 64, 67, 0.3), 0px 1px 3px 1px rgba(60, 64, 67, 0.15);\n",
              "      fill: #174EA6;\n",
              "    }\n",
              "\n",
              "    .colab-df-buttons div {\n",
              "      margin-bottom: 4px;\n",
              "    }\n",
              "\n",
              "    [theme=dark] .colab-df-convert {\n",
              "      background-color: #3B4455;\n",
              "      fill: #D2E3FC;\n",
              "    }\n",
              "\n",
              "    [theme=dark] .colab-df-convert:hover {\n",
              "      background-color: #434B5C;\n",
              "      box-shadow: 0px 1px 3px 1px rgba(0, 0, 0, 0.15);\n",
              "      filter: drop-shadow(0px 1px 2px rgba(0, 0, 0, 0.3));\n",
              "      fill: #FFFFFF;\n",
              "    }\n",
              "  </style>\n",
              "\n",
              "    <script>\n",
              "      const buttonEl =\n",
              "        document.querySelector('#df-338f12db-a5f1-43bc-9aca-155b3df1623e button.colab-df-convert');\n",
              "      buttonEl.style.display =\n",
              "        google.colab.kernel.accessAllowed ? 'block' : 'none';\n",
              "\n",
              "      async function convertToInteractive(key) {\n",
              "        const element = document.querySelector('#df-338f12db-a5f1-43bc-9aca-155b3df1623e');\n",
              "        const dataTable =\n",
              "          await google.colab.kernel.invokeFunction('convertToInteractive',\n",
              "                                                    [key], {});\n",
              "        if (!dataTable) return;\n",
              "\n",
              "        const docLinkHtml = 'Like what you see? Visit the ' +\n",
              "          '<a target=\"_blank\" href=https://colab.research.google.com/notebooks/data_table.ipynb>data table notebook</a>'\n",
              "          + ' to learn more about interactive tables.';\n",
              "        element.innerHTML = '';\n",
              "        dataTable['output_type'] = 'display_data';\n",
              "        await google.colab.output.renderOutput(dataTable, element);\n",
              "        const docLink = document.createElement('div');\n",
              "        docLink.innerHTML = docLinkHtml;\n",
              "        element.appendChild(docLink);\n",
              "      }\n",
              "    </script>\n",
              "  </div>\n",
              "\n",
              "\n",
              "<div id=\"df-95d8b7f4-cf65-4b1c-b5e6-5cb4a63aee1f\">\n",
              "  <button class=\"colab-df-quickchart\" onclick=\"quickchart('df-95d8b7f4-cf65-4b1c-b5e6-5cb4a63aee1f')\"\n",
              "            title=\"Suggest charts\"\n",
              "            style=\"display:none;\">\n",
              "\n",
              "<svg xmlns=\"http://www.w3.org/2000/svg\" height=\"24px\"viewBox=\"0 0 24 24\"\n",
              "     width=\"24px\">\n",
              "    <g>\n",
              "        <path d=\"M19 3H5c-1.1 0-2 .9-2 2v14c0 1.1.9 2 2 2h14c1.1 0 2-.9 2-2V5c0-1.1-.9-2-2-2zM9 17H7v-7h2v7zm4 0h-2V7h2v10zm4 0h-2v-4h2v4z\"/>\n",
              "    </g>\n",
              "</svg>\n",
              "  </button>\n",
              "\n",
              "<style>\n",
              "  .colab-df-quickchart {\n",
              "      --bg-color: #E8F0FE;\n",
              "      --fill-color: #1967D2;\n",
              "      --hover-bg-color: #E2EBFA;\n",
              "      --hover-fill-color: #174EA6;\n",
              "      --disabled-fill-color: #AAA;\n",
              "      --disabled-bg-color: #DDD;\n",
              "  }\n",
              "\n",
              "  [theme=dark] .colab-df-quickchart {\n",
              "      --bg-color: #3B4455;\n",
              "      --fill-color: #D2E3FC;\n",
              "      --hover-bg-color: #434B5C;\n",
              "      --hover-fill-color: #FFFFFF;\n",
              "      --disabled-bg-color: #3B4455;\n",
              "      --disabled-fill-color: #666;\n",
              "  }\n",
              "\n",
              "  .colab-df-quickchart {\n",
              "    background-color: var(--bg-color);\n",
              "    border: none;\n",
              "    border-radius: 50%;\n",
              "    cursor: pointer;\n",
              "    display: none;\n",
              "    fill: var(--fill-color);\n",
              "    height: 32px;\n",
              "    padding: 0;\n",
              "    width: 32px;\n",
              "  }\n",
              "\n",
              "  .colab-df-quickchart:hover {\n",
              "    background-color: var(--hover-bg-color);\n",
              "    box-shadow: 0 1px 2px rgba(60, 64, 67, 0.3), 0 1px 3px 1px rgba(60, 64, 67, 0.15);\n",
              "    fill: var(--button-hover-fill-color);\n",
              "  }\n",
              "\n",
              "  .colab-df-quickchart-complete:disabled,\n",
              "  .colab-df-quickchart-complete:disabled:hover {\n",
              "    background-color: var(--disabled-bg-color);\n",
              "    fill: var(--disabled-fill-color);\n",
              "    box-shadow: none;\n",
              "  }\n",
              "\n",
              "  .colab-df-spinner {\n",
              "    border: 2px solid var(--fill-color);\n",
              "    border-color: transparent;\n",
              "    border-bottom-color: var(--fill-color);\n",
              "    animation:\n",
              "      spin 1s steps(1) infinite;\n",
              "  }\n",
              "\n",
              "  @keyframes spin {\n",
              "    0% {\n",
              "      border-color: transparent;\n",
              "      border-bottom-color: var(--fill-color);\n",
              "      border-left-color: var(--fill-color);\n",
              "    }\n",
              "    20% {\n",
              "      border-color: transparent;\n",
              "      border-left-color: var(--fill-color);\n",
              "      border-top-color: var(--fill-color);\n",
              "    }\n",
              "    30% {\n",
              "      border-color: transparent;\n",
              "      border-left-color: var(--fill-color);\n",
              "      border-top-color: var(--fill-color);\n",
              "      border-right-color: var(--fill-color);\n",
              "    }\n",
              "    40% {\n",
              "      border-color: transparent;\n",
              "      border-right-color: var(--fill-color);\n",
              "      border-top-color: var(--fill-color);\n",
              "    }\n",
              "    60% {\n",
              "      border-color: transparent;\n",
              "      border-right-color: var(--fill-color);\n",
              "    }\n",
              "    80% {\n",
              "      border-color: transparent;\n",
              "      border-right-color: var(--fill-color);\n",
              "      border-bottom-color: var(--fill-color);\n",
              "    }\n",
              "    90% {\n",
              "      border-color: transparent;\n",
              "      border-bottom-color: var(--fill-color);\n",
              "    }\n",
              "  }\n",
              "</style>\n",
              "\n",
              "  <script>\n",
              "    async function quickchart(key) {\n",
              "      const quickchartButtonEl =\n",
              "        document.querySelector('#' + key + ' button');\n",
              "      quickchartButtonEl.disabled = true;  // To prevent multiple clicks.\n",
              "      quickchartButtonEl.classList.add('colab-df-spinner');\n",
              "      try {\n",
              "        const charts = await google.colab.kernel.invokeFunction(\n",
              "            'suggestCharts', [key], {});\n",
              "      } catch (error) {\n",
              "        console.error('Error during call to suggestCharts:', error);\n",
              "      }\n",
              "      quickchartButtonEl.classList.remove('colab-df-spinner');\n",
              "      quickchartButtonEl.classList.add('colab-df-quickchart-complete');\n",
              "    }\n",
              "    (() => {\n",
              "      let quickchartButtonEl =\n",
              "        document.querySelector('#df-95d8b7f4-cf65-4b1c-b5e6-5cb4a63aee1f button');\n",
              "      quickchartButtonEl.style.display =\n",
              "        google.colab.kernel.accessAllowed ? 'block' : 'none';\n",
              "    })();\n",
              "  </script>\n",
              "</div>\n",
              "    </div>\n",
              "  </div>\n"
            ],
            "text/plain": [
              "   selection  mathematics_ability  coding_ability  location  prior_education  \\\n",
              "0        0.0             0.565300        1.937192        30                4   \n",
              "1        1.0             0.010445        4.359543        46                1   \n",
              "2        1.0             0.598053        4.121222        11                2   \n",
              "3        0.0             0.480763        1.762791         0                4   \n",
              "4        1.0             0.553917        2.172269        55                4   \n",
              "\n",
              "   gender  english_ability  recommandation_letter  \n",
              "0     1.0         0.052761                    1.0  \n",
              "1     1.0         0.004386                    0.0  \n",
              "2     1.0         0.072382                    0.0  \n",
              "3     1.0         0.060289                    0.0  \n",
              "4     1.0         0.044615                    1.0  "
            ]
          },
          "execution_count": 15,
          "metadata": {},
          "output_type": "execute_result"
        }
      ],
      "source": [
        "# @title Generate the data\n",
        "pyro.set_rng_seed(101)\n",
        "np.random.seed(42)\n",
        "data = Data(countries=african_countries, is_english_speakers=is_english_speakers, is_neighbor=is_neighbor)\n",
        "data.generate_data(1000)\n",
        "synthetic_data = data.get_data()\n",
        "synthetic_data.head()"
      ]
    },
    {
      "cell_type": "markdown",
      "metadata": {
        "id": "a0jo3jRrQqh0"
      },
      "source": [
        "\n",
        "## Reflect and Discuss\n",
        "\n",
        "With the synthetic dataset in hand:\n",
        "\n",
        "- How the generated data aligns with the expectations based on the model ?\n",
        "- What insights or surprises did we find in the data ?\n",
        "\n",
        "To answers these questions, let's get the labelled data first."
      ]
    },
    {
      "cell_type": "code",
      "execution_count": null,
      "metadata": {
        "colab": {
          "base_uri": "https://localhost:8080/",
          "height": 206
        },
        "id": "ZPTashtD_yf7",
        "outputId": "049bd303-3a99-408e-dd2d-fdbefe7c4bd6"
      },
      "outputs": [
        {
          "data": {
            "text/html": [
              "\n",
              "  <div id=\"df-4cddb661-dd5b-4d57-81c9-812309bad730\" class=\"colab-df-container\">\n",
              "    <div>\n",
              "<style scoped>\n",
              "    .dataframe tbody tr th:only-of-type {\n",
              "        vertical-align: middle;\n",
              "    }\n",
              "\n",
              "    .dataframe tbody tr th {\n",
              "        vertical-align: top;\n",
              "    }\n",
              "\n",
              "    .dataframe thead th {\n",
              "        text-align: right;\n",
              "    }\n",
              "</style>\n",
              "<table border=\"1\" class=\"dataframe\">\n",
              "  <thead>\n",
              "    <tr style=\"text-align: right;\">\n",
              "      <th></th>\n",
              "      <th>selection</th>\n",
              "      <th>mathematics_ability</th>\n",
              "      <th>coding_ability</th>\n",
              "      <th>location</th>\n",
              "      <th>prior_education</th>\n",
              "      <th>gender</th>\n",
              "      <th>english_ability</th>\n",
              "      <th>recommandation_letter</th>\n",
              "    </tr>\n",
              "  </thead>\n",
              "  <tbody>\n",
              "    <tr>\n",
              "      <th>0</th>\n",
              "      <td>Not Selected</td>\n",
              "      <td>0.565300</td>\n",
              "      <td>1.937192</td>\n",
              "      <td>Cameroon</td>\n",
              "      <td>Mathematics</td>\n",
              "      <td>Male</td>\n",
              "      <td>0.052761</td>\n",
              "      <td>Yes</td>\n",
              "    </tr>\n",
              "    <tr>\n",
              "      <th>1</th>\n",
              "      <td>Selected</td>\n",
              "      <td>0.010445</td>\n",
              "      <td>4.359543</td>\n",
              "      <td>Malawi</td>\n",
              "      <td>Physics</td>\n",
              "      <td>Male</td>\n",
              "      <td>0.004386</td>\n",
              "      <td>No</td>\n",
              "    </tr>\n",
              "    <tr>\n",
              "      <th>2</th>\n",
              "      <td>Selected</td>\n",
              "      <td>0.598053</td>\n",
              "      <td>4.121222</td>\n",
              "      <td>Botswana</td>\n",
              "      <td>Engineering</td>\n",
              "      <td>Male</td>\n",
              "      <td>0.072382</td>\n",
              "      <td>No</td>\n",
              "    </tr>\n",
              "    <tr>\n",
              "      <th>3</th>\n",
              "      <td>Not Selected</td>\n",
              "      <td>0.480763</td>\n",
              "      <td>1.762791</td>\n",
              "      <td>Eritrea</td>\n",
              "      <td>Mathematics</td>\n",
              "      <td>Male</td>\n",
              "      <td>0.060289</td>\n",
              "      <td>No</td>\n",
              "    </tr>\n",
              "    <tr>\n",
              "      <th>4</th>\n",
              "      <td>Selected</td>\n",
              "      <td>0.553917</td>\n",
              "      <td>2.172269</td>\n",
              "      <td>Tunisia</td>\n",
              "      <td>Mathematics</td>\n",
              "      <td>Male</td>\n",
              "      <td>0.044615</td>\n",
              "      <td>Yes</td>\n",
              "    </tr>\n",
              "  </tbody>\n",
              "</table>\n",
              "</div>\n",
              "    <div class=\"colab-df-buttons\">\n",
              "\n",
              "  <div class=\"colab-df-container\">\n",
              "    <button class=\"colab-df-convert\" onclick=\"convertToInteractive('df-4cddb661-dd5b-4d57-81c9-812309bad730')\"\n",
              "            title=\"Convert this dataframe to an interactive table.\"\n",
              "            style=\"display:none;\">\n",
              "\n",
              "  <svg xmlns=\"http://www.w3.org/2000/svg\" height=\"24px\" viewBox=\"0 -960 960 960\">\n",
              "    <path d=\"M120-120v-720h720v720H120Zm60-500h600v-160H180v160Zm220 220h160v-160H400v160Zm0 220h160v-160H400v160ZM180-400h160v-160H180v160Zm440 0h160v-160H620v160ZM180-180h160v-160H180v160Zm440 0h160v-160H620v160Z\"/>\n",
              "  </svg>\n",
              "    </button>\n",
              "\n",
              "  <style>\n",
              "    .colab-df-container {\n",
              "      display:flex;\n",
              "      gap: 12px;\n",
              "    }\n",
              "\n",
              "    .colab-df-convert {\n",
              "      background-color: #E8F0FE;\n",
              "      border: none;\n",
              "      border-radius: 50%;\n",
              "      cursor: pointer;\n",
              "      display: none;\n",
              "      fill: #1967D2;\n",
              "      height: 32px;\n",
              "      padding: 0 0 0 0;\n",
              "      width: 32px;\n",
              "    }\n",
              "\n",
              "    .colab-df-convert:hover {\n",
              "      background-color: #E2EBFA;\n",
              "      box-shadow: 0px 1px 2px rgba(60, 64, 67, 0.3), 0px 1px 3px 1px rgba(60, 64, 67, 0.15);\n",
              "      fill: #174EA6;\n",
              "    }\n",
              "\n",
              "    .colab-df-buttons div {\n",
              "      margin-bottom: 4px;\n",
              "    }\n",
              "\n",
              "    [theme=dark] .colab-df-convert {\n",
              "      background-color: #3B4455;\n",
              "      fill: #D2E3FC;\n",
              "    }\n",
              "\n",
              "    [theme=dark] .colab-df-convert:hover {\n",
              "      background-color: #434B5C;\n",
              "      box-shadow: 0px 1px 3px 1px rgba(0, 0, 0, 0.15);\n",
              "      filter: drop-shadow(0px 1px 2px rgba(0, 0, 0, 0.3));\n",
              "      fill: #FFFFFF;\n",
              "    }\n",
              "  </style>\n",
              "\n",
              "    <script>\n",
              "      const buttonEl =\n",
              "        document.querySelector('#df-4cddb661-dd5b-4d57-81c9-812309bad730 button.colab-df-convert');\n",
              "      buttonEl.style.display =\n",
              "        google.colab.kernel.accessAllowed ? 'block' : 'none';\n",
              "\n",
              "      async function convertToInteractive(key) {\n",
              "        const element = document.querySelector('#df-4cddb661-dd5b-4d57-81c9-812309bad730');\n",
              "        const dataTable =\n",
              "          await google.colab.kernel.invokeFunction('convertToInteractive',\n",
              "                                                    [key], {});\n",
              "        if (!dataTable) return;\n",
              "\n",
              "        const docLinkHtml = 'Like what you see? Visit the ' +\n",
              "          '<a target=\"_blank\" href=https://colab.research.google.com/notebooks/data_table.ipynb>data table notebook</a>'\n",
              "          + ' to learn more about interactive tables.';\n",
              "        element.innerHTML = '';\n",
              "        dataTable['output_type'] = 'display_data';\n",
              "        await google.colab.output.renderOutput(dataTable, element);\n",
              "        const docLink = document.createElement('div');\n",
              "        docLink.innerHTML = docLinkHtml;\n",
              "        element.appendChild(docLink);\n",
              "      }\n",
              "    </script>\n",
              "  </div>\n",
              "\n",
              "\n",
              "<div id=\"df-1aa37bca-d0a5-4a6c-835a-28523fe2b897\">\n",
              "  <button class=\"colab-df-quickchart\" onclick=\"quickchart('df-1aa37bca-d0a5-4a6c-835a-28523fe2b897')\"\n",
              "            title=\"Suggest charts\"\n",
              "            style=\"display:none;\">\n",
              "\n",
              "<svg xmlns=\"http://www.w3.org/2000/svg\" height=\"24px\"viewBox=\"0 0 24 24\"\n",
              "     width=\"24px\">\n",
              "    <g>\n",
              "        <path d=\"M19 3H5c-1.1 0-2 .9-2 2v14c0 1.1.9 2 2 2h14c1.1 0 2-.9 2-2V5c0-1.1-.9-2-2-2zM9 17H7v-7h2v7zm4 0h-2V7h2v10zm4 0h-2v-4h2v4z\"/>\n",
              "    </g>\n",
              "</svg>\n",
              "  </button>\n",
              "\n",
              "<style>\n",
              "  .colab-df-quickchart {\n",
              "      --bg-color: #E8F0FE;\n",
              "      --fill-color: #1967D2;\n",
              "      --hover-bg-color: #E2EBFA;\n",
              "      --hover-fill-color: #174EA6;\n",
              "      --disabled-fill-color: #AAA;\n",
              "      --disabled-bg-color: #DDD;\n",
              "  }\n",
              "\n",
              "  [theme=dark] .colab-df-quickchart {\n",
              "      --bg-color: #3B4455;\n",
              "      --fill-color: #D2E3FC;\n",
              "      --hover-bg-color: #434B5C;\n",
              "      --hover-fill-color: #FFFFFF;\n",
              "      --disabled-bg-color: #3B4455;\n",
              "      --disabled-fill-color: #666;\n",
              "  }\n",
              "\n",
              "  .colab-df-quickchart {\n",
              "    background-color: var(--bg-color);\n",
              "    border: none;\n",
              "    border-radius: 50%;\n",
              "    cursor: pointer;\n",
              "    display: none;\n",
              "    fill: var(--fill-color);\n",
              "    height: 32px;\n",
              "    padding: 0;\n",
              "    width: 32px;\n",
              "  }\n",
              "\n",
              "  .colab-df-quickchart:hover {\n",
              "    background-color: var(--hover-bg-color);\n",
              "    box-shadow: 0 1px 2px rgba(60, 64, 67, 0.3), 0 1px 3px 1px rgba(60, 64, 67, 0.15);\n",
              "    fill: var(--button-hover-fill-color);\n",
              "  }\n",
              "\n",
              "  .colab-df-quickchart-complete:disabled,\n",
              "  .colab-df-quickchart-complete:disabled:hover {\n",
              "    background-color: var(--disabled-bg-color);\n",
              "    fill: var(--disabled-fill-color);\n",
              "    box-shadow: none;\n",
              "  }\n",
              "\n",
              "  .colab-df-spinner {\n",
              "    border: 2px solid var(--fill-color);\n",
              "    border-color: transparent;\n",
              "    border-bottom-color: var(--fill-color);\n",
              "    animation:\n",
              "      spin 1s steps(1) infinite;\n",
              "  }\n",
              "\n",
              "  @keyframes spin {\n",
              "    0% {\n",
              "      border-color: transparent;\n",
              "      border-bottom-color: var(--fill-color);\n",
              "      border-left-color: var(--fill-color);\n",
              "    }\n",
              "    20% {\n",
              "      border-color: transparent;\n",
              "      border-left-color: var(--fill-color);\n",
              "      border-top-color: var(--fill-color);\n",
              "    }\n",
              "    30% {\n",
              "      border-color: transparent;\n",
              "      border-left-color: var(--fill-color);\n",
              "      border-top-color: var(--fill-color);\n",
              "      border-right-color: var(--fill-color);\n",
              "    }\n",
              "    40% {\n",
              "      border-color: transparent;\n",
              "      border-right-color: var(--fill-color);\n",
              "      border-top-color: var(--fill-color);\n",
              "    }\n",
              "    60% {\n",
              "      border-color: transparent;\n",
              "      border-right-color: var(--fill-color);\n",
              "    }\n",
              "    80% {\n",
              "      border-color: transparent;\n",
              "      border-right-color: var(--fill-color);\n",
              "      border-bottom-color: var(--fill-color);\n",
              "    }\n",
              "    90% {\n",
              "      border-color: transparent;\n",
              "      border-bottom-color: var(--fill-color);\n",
              "    }\n",
              "  }\n",
              "</style>\n",
              "\n",
              "  <script>\n",
              "    async function quickchart(key) {\n",
              "      const quickchartButtonEl =\n",
              "        document.querySelector('#' + key + ' button');\n",
              "      quickchartButtonEl.disabled = true;  // To prevent multiple clicks.\n",
              "      quickchartButtonEl.classList.add('colab-df-spinner');\n",
              "      try {\n",
              "        const charts = await google.colab.kernel.invokeFunction(\n",
              "            'suggestCharts', [key], {});\n",
              "      } catch (error) {\n",
              "        console.error('Error during call to suggestCharts:', error);\n",
              "      }\n",
              "      quickchartButtonEl.classList.remove('colab-df-spinner');\n",
              "      quickchartButtonEl.classList.add('colab-df-quickchart-complete');\n",
              "    }\n",
              "    (() => {\n",
              "      let quickchartButtonEl =\n",
              "        document.querySelector('#df-1aa37bca-d0a5-4a6c-835a-28523fe2b897 button');\n",
              "      quickchartButtonEl.style.display =\n",
              "        google.colab.kernel.accessAllowed ? 'block' : 'none';\n",
              "    })();\n",
              "  </script>\n",
              "</div>\n",
              "    </div>\n",
              "  </div>\n"
            ],
            "text/plain": [
              "      selection  mathematics_ability  coding_ability  location  \\\n",
              "0  Not Selected             0.565300        1.937192  Cameroon   \n",
              "1      Selected             0.010445        4.359543    Malawi   \n",
              "2      Selected             0.598053        4.121222  Botswana   \n",
              "3  Not Selected             0.480763        1.762791   Eritrea   \n",
              "4      Selected             0.553917        2.172269   Tunisia   \n",
              "\n",
              "  prior_education gender  english_ability recommandation_letter  \n",
              "0     Mathematics   Male         0.052761                   Yes  \n",
              "1         Physics   Male         0.004386                    No  \n",
              "2     Engineering   Male         0.072382                    No  \n",
              "3     Mathematics   Male         0.060289                    No  \n",
              "4     Mathematics   Male         0.044615                   Yes  "
            ]
          },
          "execution_count": 16,
          "metadata": {},
          "output_type": "execute_result"
        }
      ],
      "source": [
        "# @title Get the labelled data\n",
        "all_labels = data.get_labels_data()\n",
        "labelled_data = {}\n",
        "for column in synthetic_data:\n",
        "  #labelled_data[column] = synthetic_data[column].to_numpy()[y].tolist()\n",
        "  if column in all_labels.keys():\n",
        "    x = []\n",
        "    for el2 in synthetic_data[column]:\n",
        "      x.append(all_labels[column][int(el2)])\n",
        "    labelled_data[column] = x\n",
        "  else:\n",
        "    labelled_data[column] = synthetic_data[column]\n",
        "labelled_data = pd.DataFrame(labelled_data)\n",
        "labelled_data.head()"
      ]
    },
    {
      "cell_type": "code",
      "execution_count": null,
      "metadata": {
        "colab": {
          "base_uri": "https://localhost:8080/",
          "height": 617
        },
        "id": "aeuePOgGGr_W",
        "outputId": "14c1e023-095d-452e-d8d7-73fef94c161c"
      },
      "outputs": [
        {
          "data": {
            "image/png": "[encoded data removed]",
            "text/plain": [
              "<Figure size 1500x600 with 2 Axes>"
            ]
          },
          "metadata": {},
          "output_type": "display_data"
        }
      ],
      "source": [
        "# @title Some descriptive statistics on the generated data set\n",
        "fig, axes = plt.subplots(1, 2, figsize=(15, 6))\n",
        "labels_to_plot = ['gender', 'recommandation_letter']\n",
        "for index in range(len(labels_to_plot)):\n",
        "  cross_tab = pd.crosstab(index=labelled_data['selection'],\n",
        "                                  columns=labelled_data[labels_to_plot[index]])\n",
        "  for i in range(2):\n",
        "    t = cross_tab.iloc[i,:].to_numpy()\n",
        "    t = t*100/t.sum()\n",
        "    cross_tab.iloc[i,:] = t.tolist()\n",
        "  cross_tab.plot(kind='bar', stacked=True, ax=axes[index % 2])\n",
        "  axes[index % 2].set_ylabel('Proportion')\n",
        "plt.show()"
      ]
    },
    {
      "cell_type": "markdown",
      "metadata": {
        "id": "FTkpoKJAOGXI"
      },
      "source": [
        "From this figure we can see that the link between selection variable and each of variables gender and recommandation_letter are weak in the generated data."
      ]
    },
    {
      "cell_type": "code",
      "execution_count": null,
      "metadata": {
        "colab": {
          "base_uri": "https://localhost:8080/",
          "height": 413
        },
        "id": "lSr02HeRITih",
        "outputId": "3c5aee13-e62b-4611-d1db-dbec76101a9d"
      },
      "outputs": [
        {
          "data": {
            "image/png": "[encoded data removed]",
            "text/plain": [
              "<Figure size 2000x500 with 3 Axes>"
            ]
          },
          "metadata": {},
          "output_type": "display_data"
        }
      ],
      "source": [
        "# @title Some descriptive statistics on the generated data set\n",
        "labels_to_plot = ['coding_ability', 'mathematics_ability', 'english_ability']\n",
        "fig, axes = plt.subplots(1, 3, figsize=(20, 5))\n",
        "for index in range(len(labels_to_plot)):\n",
        "  d = labelled_data.loc[:, ['selection', labels_to_plot[index]]]\n",
        "  sns.boxplot(x=labels_to_plot[index], y='selection', data=labelled_data, ax=axes[index % 3])\n",
        "  axes[index % 3].set_title(\"selection according to \"+labels_to_plot[index])\n",
        "  if index != 0:\n",
        "    axes[index % 3].set_ylabel(\"\")\n",
        "plt.show()"
      ]
    },
    {
      "cell_type": "markdown",
      "metadata": {
        "id": "WUiZ0-iwOaHG"
      },
      "source": [
        "From this figure, we see easily that more a candidate have coding more he/she have a chance to be selected. It's a reversed case for mathematics ability. ANd english ability doesn't really matter here."
      ]
    },
    {
      "cell_type": "markdown",
      "metadata": {
        "id": "s_Fi5KbEpTtm"
      },
      "source": [
        "# Part 2: Causal Discovery Using Greedy Equivalence Search (GES)"
      ]
    },
    {
      "cell_type": "markdown",
      "metadata": {
        "id": "NzOUy9Gpqizz"
      },
      "source": [
        "In this section, we shift our approach from using domain knowledge to discover causal relationships in data. We'll use the Greedy Equivalence Search (GES) algorithm to learn a causal graph from the data you generated in Part 1. The key here is to assume we don't know the true causal structure."
      ]
    },
    {
      "cell_type": "markdown",
      "metadata": {
        "id": "LFQpd6h55dNb"
      },
      "source": [
        "### Evaluation of a GES\n",
        "\n",
        "The Structural Hamming Distance (SHD) is an indicator that evaluates the difference between two graphs by counting the number of edges or edge orientations that need to be added, removed or modified to transform one DAG into another. Here, the value of SHD is 14. So there is 14 nodes to add, remove or modify in the learned graph to have the initial graph."
      ]
    },
    {
      "cell_type": "markdown",
      "metadata": {
        "id": "pp7BO6eP6DR2"
      },
      "source": [
        "### Critical analysis of using learning graphs\n",
        "\n",
        "The risk is learned graphs might capture correlations instead of true causal relationships, especially in observational data, leading to mistaken causal inferences.\n",
        "\n",
        "Correlation doesn't always imply causation. Without experimental data or domain knowledge, inferring causality solely from observational data can be misleading."
      ]
    },
    {
      "cell_type": "code",
      "execution_count": null,
      "metadata": {
        "colab": {
          "base_uri": "https://localhost:8080/",
          "height": 121
        },
        "id": "jwE6ffzXmxdJ",
        "outputId": "7753b688-0351-44f2-f4bc-2d000835e3d2"
      },
      "outputs": [
        {
          "data": {
            "image/png": "[encoded data removed]",
            "text/plain": [
              "<Figure size 800x800 with 1 Axes>"
            ]
          },
          "metadata": {},
          "output_type": "display_data"
        }
      ],
      "source": [
        "# @title Causal Graph inference\n",
        "model = ges(synthetic_data.to_numpy())\n",
        "\n",
        "from causallearn.utils.GraphUtils import GraphUtils\n",
        "import matplotlib.image as mpimg\n",
        "import io\n",
        "\n",
        "pyd = GraphUtils.to_pydot(model['G'], labels=synthetic_data.keys().tolist())\n",
        "tmp_png = pyd.create_png(f='png')\n",
        "fp = io.BytesIO(tmp_png)\n",
        "img = mpimg.imread(fp, format='png')\n",
        "plt.figure(figsize=(8, 8))\n",
        "plt.axis('off')\n",
        "plt.imshow(img)\n",
        "plt.show()"
      ]
    },
    {
      "cell_type": "code",
      "execution_count": null,
      "metadata": {
        "colab": {
          "base_uri": "https://localhost:8080/",
          "height": 653
        },
        "id": "lcEhtOfQoti2",
        "outputId": "23f893b7-e56d-46bc-80a8-925feeb74034"
      },
      "outputs": [
        {
          "data": {
            "image/png": "[encoded data removed]",
            "text/plain": [
              "<Figure size 1000x800 with 1 Axes>"
            ]
          },
          "metadata": {},
          "output_type": "display_data"
        }
      ],
      "source": [
        "# @title Displaying of the same way the learned graph\n",
        "# Setting up the plotting\n",
        "%matplotlib inline\n",
        "sns.set_style('whitegrid')\n",
        "\n",
        "\n",
        "learned_graph = nx.DiGraph()\n",
        "\n",
        "learned_graph.add_edges_from([\n",
        "    #('gender', 'selection'),\n",
        "    ('mathematics_ability', 'selection'),\n",
        "    ('coding_ability','selection'),\n",
        "    #('english_ability','selection'),\n",
        "    #('recommandation_letter','selection'),\n",
        "    ('prior_education', 'mathematics_ability'),\n",
        "    ('mathematics_ability', 'prior_education'),\n",
        "    ('prior_education', 'coding_ability'),\n",
        "    ('coding_ability', 'prior_education'),\n",
        "    #('location', 'english_ability'),\n",
        "    #('mathematics_ability', 'coding_ability'),\n",
        "])\n",
        "\n",
        "\n",
        "plt.figure(figsize=(10, 8))\n",
        "plt.xlim(-4.8,5.5)\n",
        "plt.ylim(-1.9,1.8)\n",
        "nx.draw_networkx_edges(learned_graph, node_positions, node_size=15000,arrowsize=25)\n",
        "nx.draw_networkx_labels(causal_graph, pos=node_positions, font_color='black')\n",
        "\n",
        "nx.draw_networkx_nodes(learned_graph, pos=node_positions, nodelist=list(causal_graph.nodes()), node_size=15000, node_color='#BFB16D', node_shape='o', label=True)\n",
        "\n",
        "plt.grid(False)\n",
        "plt.axis('off')\n",
        "\n",
        "plt.savefig('learned_graph.pdf', format='pdf', bbox_inches='tight')\n",
        "plt.show()\n"
      ]
    },
    {
      "cell_type": "markdown",
      "metadata": {
        "id": "FNQa-MuU6tdi"
      },
      "source": [
        "The starting graph and the trained graph have some differences in terms of causal relationships.  In fact, the model has rejected certain causes of the `selection` variable:`gender`, `english_ability` and `recommandation_letter`.\n",
        "Also, the causal relationship between `location` and `english_ability` has been removed."
      ]
    },
    {
      "cell_type": "code",
      "execution_count": null,
      "metadata": {
        "colab": {
          "base_uri": "https://localhost:8080/"
        },
        "id": "Zy1KKoC_3W6Y",
        "outputId": "fc8da2a5-fc84-4d30-f24c-e1cc67fd9d38"
      },
      "outputs": [
        {
          "name": "stdout",
          "output_type": "stream",
          "text": [
            "Structural Hamming Distance: 14\n"
          ]
        },
        {
          "name": "stderr",
          "output_type": "stream",
          "text": [
            "No GPU automatically detected. Setting SETTINGS.GPU to 0, and SETTINGS.NJOBS to cpu_count.\n"
          ]
        }
      ],
      "source": [
        "from cdt.metrics import SHD\n",
        "\n",
        "# Compute SHD\n",
        "shd_value = SHD(causal_graph,  model['G'].graph)\n",
        "print(\"Structural Hamming Distance:\", shd_value)"
      ]
    }
  ],
  "metadata": {
    "colab": {
      "provenance": []
    },
    "kernelspec": {
      "display_name": "Python 3",
      "name": "python3"
    },
    "language_info": {
      "name": "python"
    }
  },
  "nbformat": 4,
  "nbformat_minor": 0
}
